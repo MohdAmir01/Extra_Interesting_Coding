{
  "nbformat": 4,
  "nbformat_minor": 0,
  "metadata": {
    "colab": {
      "name": "Batman_sketch",
      "provenance": [],
      "authorship_tag": "ABX9TyNNPqU9iFT5h4BDKjku7u41",
      "include_colab_link": true
    },
    "kernelspec": {
      "name": "python3",
      "display_name": "Python 3"
    }
  },
  "cells": [
    {
      "cell_type": "markdown",
      "metadata": {
        "id": "view-in-github",
        "colab_type": "text"
      },
      "source": [
        "<a href=\"https://colab.research.google.com/github/MohdAmir01/Extra_Interesting_Coding/blob/master/Batman_sketch.ipynb\" target=\"_parent\"><img src=\"https://colab.research.google.com/assets/colab-badge.svg\" alt=\"Open In Colab\"/></a>"
      ]
    },
    {
      "cell_type": "code",
      "metadata": {
        "id": "9OIlp90b71aH",
        "colab_type": "code",
        "colab": {}
      },
      "source": [
        "import math\n",
        "import numpy as np\n",
        "import matplotlib.pyplot as plt"
      ],
      "execution_count": null,
      "outputs": []
    },
    {
      "cell_type": "code",
      "metadata": {
        "id": "EcZkphQQ8U3D",
        "colab_type": "code",
        "colab": {}
      },
      "source": [
        "Y = np.arange(-4,4,.005)\n",
        "X= np.zeros((0))\n",
        "for y in Y:\n",
        "  X= np.append(X,abs(y/2)-0.09137*y**2+math.sqrt(1-(abs(abs(y)-2)-1)**2)-3)"
      ],
      "execution_count": null,
      "outputs": []
    },
    {
      "cell_type": "code",
      "metadata": {
        "id": "SgfXlCAX9Geh",
        "colab_type": "code",
        "colab": {}
      },
      "source": [
        "Y1 = np.append(np.arange(-7,-3,.01),np.arange(3,7,.01))\n",
        "X1 = np.zeros((0))\n",
        "for y in Y1:\n",
        "  X1 = np.append(X1,3*math.sqrt(-(y/7)**2+1))"
      ],
      "execution_count": null,
      "outputs": []
    },
    {
      "cell_type": "code",
      "metadata": {
        "id": "lcFC4hmZ-AbD",
        "colab_type": "code",
        "colab": {}
      },
      "source": [
        "X = np.append(X,X1)\n",
        "Y = np.append(Y,Y1)"
      ],
      "execution_count": null,
      "outputs": []
    },
    {
      "cell_type": "code",
      "metadata": {
        "id": "kfp_Hv4f-W9O",
        "colab_type": "code",
        "colab": {}
      },
      "source": [
        "Y1 = np.append(np.arange(-7.,-4,.01),np.arange(4,7.01,.01))\n",
        "X1 = np.zeros((0))\n",
        "for y in Y1:\n",
        "  X1 = np.append(X1,-3*math.sqrt(-(y/7)**2+1))"
      ],
      "execution_count": null,
      "outputs": []
    },
    {
      "cell_type": "code",
      "metadata": {
        "id": "5GGZlpDe_XO9",
        "colab_type": "code",
        "colab": {}
      },
      "source": [
        "X = np.append(X,X1)\n",
        "Y = np.append(Y,Y1)"
      ],
      "execution_count": null,
      "outputs": []
    },
    {
      "cell_type": "code",
      "metadata": {
        "id": "RiE-91B2_hcP",
        "colab_type": "code",
        "colab": {}
      },
      "source": [
        "Y1 = np.append(np.arange(-1,-.8,.01),np.arange(.8,1,.01))\n",
        "X1 = np.zeros((0))\n",
        "for y in Y1:\n",
        "  X1 = np.append(X1,9-8*abs(y))"
      ],
      "execution_count": null,
      "outputs": []
    },
    {
      "cell_type": "code",
      "metadata": {
        "id": "vMlEoJO8AAkN",
        "colab_type": "code",
        "colab": {}
      },
      "source": [
        "X = np.append(X,X1)\n",
        "Y = np.append(Y,Y1)"
      ],
      "execution_count": null,
      "outputs": []
    },
    {
      "cell_type": "code",
      "metadata": {
        "id": "ZaROswquAMW8",
        "colab_type": "code",
        "colab": {}
      },
      "source": [
        "Y1 = np.arange(-.5,.5,.05)\n",
        "X1 = np.zeros((0))\n",
        "for y in Y1:\n",
        "  X1 = np.append(X1,2)"
      ],
      "execution_count": null,
      "outputs": []
    },
    {
      "cell_type": "code",
      "metadata": {
        "id": "2yiabOU7AiDQ",
        "colab_type": "code",
        "colab": {}
      },
      "source": [
        "X = np.append(X,X1)\n",
        "Y = np.append(Y,Y1)"
      ],
      "execution_count": null,
      "outputs": []
    },
    {
      "cell_type": "code",
      "metadata": {
        "id": "ZmlrbyrDBA0g",
        "colab_type": "code",
        "colab": {}
      },
      "source": [
        "Y1 = np.append(np.arange(-2.9,-1,.01), np.arange(1,2.9,.01))\n",
        "X1 = np.zeros((0))\n",
        "for y in Y1:\n",
        "  X1 = np.append(X1, 1.5-.5*abs(y)-1.89736*(math.sqrt(3-y**2+2*abs(y))-2))"
      ],
      "execution_count": null,
      "outputs": []
    },
    {
      "cell_type": "code",
      "metadata": {
        "id": "aCQUq_ObBoBq",
        "colab_type": "code",
        "colab": {}
      },
      "source": [
        "X = np.append(X,X1)\n",
        "Y = np.append(Y,Y1)"
      ],
      "execution_count": null,
      "outputs": []
    },
    {
      "cell_type": "code",
      "metadata": {
        "id": "d_IuGWngByFZ",
        "colab_type": "code",
        "colab": {}
      },
      "source": [
        "Y1 = np.append(np.arange(-.7,-.45,.01), np.arange(.45,.7,.01))\n",
        "X1 = np.zeros((0))\n",
        "for y in Y1:\n",
        "  X1 = np.append(X1,3*abs(y)+.75)"
      ],
      "execution_count": null,
      "outputs": []
    },
    {
      "cell_type": "code",
      "metadata": {
        "id": "a8YYweFrCMp2",
        "colab_type": "code",
        "colab": {}
      },
      "source": [
        "X = np.append(X,X1)\n",
        "Y = np.append(Y,Y1)"
      ],
      "execution_count": null,
      "outputs": []
    },
    {
      "cell_type": "code",
      "metadata": {
        "id": "PHiaHxOTCV0P",
        "colab_type": "code",
        "colab": {
          "base_uri": "https://localhost:8080/",
          "height": 265
        },
        "outputId": "c8f44883-25ee-4537-e44d-89b34e490542"
      },
      "source": [
        "plt.plot(Y,X,'bo')\n",
        "plt.grid()\n",
        "plt.show()"
      ],
      "execution_count": null,
      "outputs": [
        {
          "output_type": "display_data",
          "data": {
            "image/png": "[encoded data removed]",
            "text/plain": [
              "<Figure size 432x288 with 1 Axes>"
            ]
          },
          "metadata": {
            "tags": [],
            "needs_background": "light"
          }
        }
      ]
    },
    {
      "cell_type": "code",
      "metadata": {
        "id": "J-w8bUTuCd5n",
        "colab_type": "code",
        "colab": {}
      },
      "source": [
        ""
      ],
      "execution_count": null,
      "outputs": []
    }
  ]
}